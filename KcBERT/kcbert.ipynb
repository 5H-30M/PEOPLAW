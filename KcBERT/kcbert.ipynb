{
  "nbformat": 4,
  "nbformat_minor": 0,
  "metadata": {
    "colab": {
      "provenance": []
    },
    "kernelspec": {
      "name": "python3",
      "display_name": "Python 3"
    },
    "language_info": {
      "name": "python"
    },
    "gpuClass": "standard",
    "accelerator": "GPU",
    "widgets": {
      "application/vnd.jupyter.widget-state+json": {
        "da0c1be92644444a842382748af93a6f": {
          "model_module": "@jupyter-widgets/controls",
          "model_name": "HBoxModel",
          "model_module_version": "1.5.0",
          "state": {
            "_dom_classes": [],
            "_model_module": "@jupyter-widgets/controls",
            "_model_module_version": "1.5.0",
            "_model_name": "HBoxModel",
            "_view_count": null,
            "_view_module": "@jupyter-widgets/controls",
            "_view_module_version": "1.5.0",
            "_view_name": "HBoxView",
            "box_style": "",
            "children": [
              "IPY_MODEL_aa9cd38f261f4d0eab8165c5c9427669",
              "IPY_MODEL_476e3a21d66d4b898c35bd83305c26a5",
              "IPY_MODEL_fefe2b29e3e24a038dcdc949ce43e923"
            ],
            "layout": "IPY_MODEL_2ae2702dda814f14b8a677e325c4832e"
          }
        },
        "aa9cd38f261f4d0eab8165c5c9427669": {
          "model_module": "@jupyter-widgets/controls",
          "model_name": "HTMLModel",
          "model_module_version": "1.5.0",
          "state": {
            "_dom_classes": [],
            "_model_module": "@jupyter-widgets/controls",
            "_model_module_version": "1.5.0",
            "_model_name": "HTMLModel",
            "_view_count": null,
            "_view_module": "@jupyter-widgets/controls",
            "_view_module_version": "1.5.0",
            "_view_name": "HTMLView",
            "description": "",
            "description_tooltip": null,
            "layout": "IPY_MODEL_0d9cddbaffdf41c192122bd0c5f4a9a7",
            "placeholder": "​",
            "style": "IPY_MODEL_af9d4f621b9042aa9d84d1b1fae226df",
            "value": ""
          }
        },
        "476e3a21d66d4b898c35bd83305c26a5": {
          "model_module": "@jupyter-widgets/controls",
          "model_name": "FloatProgressModel",
          "model_module_version": "1.5.0",
          "state": {
            "_dom_classes": [],
            "_model_module": "@jupyter-widgets/controls",
            "_model_module_version": "1.5.0",
            "_model_name": "FloatProgressModel",
            "_view_count": null,
            "_view_module": "@jupyter-widgets/controls",
            "_view_module_version": "1.5.0",
            "_view_name": "ProgressView",
            "bar_style": "success",
            "description": "",
            "description_tooltip": null,
            "layout": "IPY_MODEL_f2d0dbd6c13947708839a83df1de2af8",
            "max": 1,
            "min": 0,
            "orientation": "horizontal",
            "style": "IPY_MODEL_a8ab5e29a75a4872aed734b507080c22",
            "value": 1
          }
        },
        "fefe2b29e3e24a038dcdc949ce43e923": {
          "model_module": "@jupyter-widgets/controls",
          "model_name": "HTMLModel",
          "model_module_version": "1.5.0",
          "state": {
            "_dom_classes": [],
            "_model_module": "@jupyter-widgets/controls",
            "_model_module_version": "1.5.0",
            "_model_name": "HTMLModel",
            "_view_count": null,
            "_view_module": "@jupyter-widgets/controls",
            "_view_module_version": "1.5.0",
            "_view_name": "HTMLView",
            "description": "",
            "description_tooltip": null,
            "layout": "IPY_MODEL_ae9a88ad1ea747ffabfb952cde292d42",
            "placeholder": "​",
            "style": "IPY_MODEL_68e1a7decff649679a99f7ec1c2cb74b",
            "value": " 7207/? [1:07:11&lt;00:00,  1.95it/s]"
          }
        },
        "2ae2702dda814f14b8a677e325c4832e": {
          "model_module": "@jupyter-widgets/base",
          "model_name": "LayoutModel",
          "model_module_version": "1.2.0",
          "state": {
            "_model_module": "@jupyter-widgets/base",
            "_model_module_version": "1.2.0",
            "_model_name": "LayoutModel",
            "_view_count": null,
            "_view_module": "@jupyter-widgets/base",
            "_view_module_version": "1.2.0",
            "_view_name": "LayoutView",
            "align_content": null,
            "align_items": null,
            "align_self": null,
            "border": null,
            "bottom": null,
            "display": null,
            "flex": null,
            "flex_flow": null,
            "grid_area": null,
            "grid_auto_columns": null,
            "grid_auto_flow": null,
            "grid_auto_rows": null,
            "grid_column": null,
            "grid_gap": null,
            "grid_row": null,
            "grid_template_areas": null,
            "grid_template_columns": null,
            "grid_template_rows": null,
            "height": null,
            "justify_content": null,
            "justify_items": null,
            "left": null,
            "margin": null,
            "max_height": null,
            "max_width": null,
            "min_height": null,
            "min_width": null,
            "object_fit": null,
            "object_position": null,
            "order": null,
            "overflow": null,
            "overflow_x": null,
            "overflow_y": null,
            "padding": null,
            "right": null,
            "top": null,
            "visibility": null,
            "width": null
          }
        },
        "0d9cddbaffdf41c192122bd0c5f4a9a7": {
          "model_module": "@jupyter-widgets/base",
          "model_name": "LayoutModel",
          "model_module_version": "1.2.0",
          "state": {
            "_model_module": "@jupyter-widgets/base",
            "_model_module_version": "1.2.0",
            "_model_name": "LayoutModel",
            "_view_count": null,
            "_view_module": "@jupyter-widgets/base",
            "_view_module_version": "1.2.0",
            "_view_name": "LayoutView",
            "align_content": null,
            "align_items": null,
            "align_self": null,
            "border": null,
            "bottom": null,
            "display": null,
            "flex": null,
            "flex_flow": null,
            "grid_area": null,
            "grid_auto_columns": null,
            "grid_auto_flow": null,
            "grid_auto_rows": null,
            "grid_column": null,
            "grid_gap": null,
            "grid_row": null,
            "grid_template_areas": null,
            "grid_template_columns": null,
            "grid_template_rows": null,
            "height": null,
            "justify_content": null,
            "justify_items": null,
            "left": null,
            "margin": null,
            "max_height": null,
            "max_width": null,
            "min_height": null,
            "min_width": null,
            "object_fit": null,
            "object_position": null,
            "order": null,
            "overflow": null,
            "overflow_x": null,
            "overflow_y": null,
            "padding": null,
            "right": null,
            "top": null,
            "visibility": null,
            "width": null
          }
        },
        "af9d4f621b9042aa9d84d1b1fae226df": {
          "model_module": "@jupyter-widgets/controls",
          "model_name": "DescriptionStyleModel",
          "model_module_version": "1.5.0",
          "state": {
            "_model_module": "@jupyter-widgets/controls",
            "_model_module_version": "1.5.0",
            "_model_name": "DescriptionStyleModel",
            "_view_count": null,
            "_view_module": "@jupyter-widgets/base",
            "_view_module_version": "1.2.0",
            "_view_name": "StyleView",
            "description_width": ""
          }
        },
        "f2d0dbd6c13947708839a83df1de2af8": {
          "model_module": "@jupyter-widgets/base",
          "model_name": "LayoutModel",
          "model_module_version": "1.2.0",
          "state": {
            "_model_module": "@jupyter-widgets/base",
            "_model_module_version": "1.2.0",
            "_model_name": "LayoutModel",
            "_view_count": null,
            "_view_module": "@jupyter-widgets/base",
            "_view_module_version": "1.2.0",
            "_view_name": "LayoutView",
            "align_content": null,
            "align_items": null,
            "align_self": null,
            "border": null,
            "bottom": null,
            "display": null,
            "flex": null,
            "flex_flow": null,
            "grid_area": null,
            "grid_auto_columns": null,
            "grid_auto_flow": null,
            "grid_auto_rows": null,
            "grid_column": null,
            "grid_gap": null,
            "grid_row": null,
            "grid_template_areas": null,
            "grid_template_columns": null,
            "grid_template_rows": null,
            "height": null,
            "justify_content": null,
            "justify_items": null,
            "left": null,
            "margin": null,
            "max_height": null,
            "max_width": null,
            "min_height": null,
            "min_width": null,
            "object_fit": null,
            "object_position": null,
            "order": null,
            "overflow": null,
            "overflow_x": null,
            "overflow_y": null,
            "padding": null,
            "right": null,
            "top": null,
            "visibility": null,
            "width": null
          }
        },
        "a8ab5e29a75a4872aed734b507080c22": {
          "model_module": "@jupyter-widgets/controls",
          "model_name": "ProgressStyleModel",
          "model_module_version": "1.5.0",
          "state": {
            "_model_module": "@jupyter-widgets/controls",
            "_model_module_version": "1.5.0",
            "_model_name": "ProgressStyleModel",
            "_view_count": null,
            "_view_module": "@jupyter-widgets/base",
            "_view_module_version": "1.2.0",
            "_view_name": "StyleView",
            "bar_color": null,
            "description_width": ""
          }
        },
        "ae9a88ad1ea747ffabfb952cde292d42": {
          "model_module": "@jupyter-widgets/base",
          "model_name": "LayoutModel",
          "model_module_version": "1.2.0",
          "state": {
            "_model_module": "@jupyter-widgets/base",
            "_model_module_version": "1.2.0",
            "_model_name": "LayoutModel",
            "_view_count": null,
            "_view_module": "@jupyter-widgets/base",
            "_view_module_version": "1.2.0",
            "_view_name": "LayoutView",
            "align_content": null,
            "align_items": null,
            "align_self": null,
            "border": null,
            "bottom": null,
            "display": null,
            "flex": null,
            "flex_flow": null,
            "grid_area": null,
            "grid_auto_columns": null,
            "grid_auto_flow": null,
            "grid_auto_rows": null,
            "grid_column": null,
            "grid_gap": null,
            "grid_row": null,
            "grid_template_areas": null,
            "grid_template_columns": null,
            "grid_template_rows": null,
            "height": null,
            "justify_content": null,
            "justify_items": null,
            "left": null,
            "margin": null,
            "max_height": null,
            "max_width": null,
            "min_height": null,
            "min_width": null,
            "object_fit": null,
            "object_position": null,
            "order": null,
            "overflow": null,
            "overflow_x": null,
            "overflow_y": null,
            "padding": null,
            "right": null,
            "top": null,
            "visibility": null,
            "width": null
          }
        },
        "68e1a7decff649679a99f7ec1c2cb74b": {
          "model_module": "@jupyter-widgets/controls",
          "model_name": "DescriptionStyleModel",
          "model_module_version": "1.5.0",
          "state": {
            "_model_module": "@jupyter-widgets/controls",
            "_model_module_version": "1.5.0",
            "_model_name": "DescriptionStyleModel",
            "_view_count": null,
            "_view_module": "@jupyter-widgets/base",
            "_view_module_version": "1.2.0",
            "_view_name": "StyleView",
            "description_width": ""
          }
        }
      }
    }
  },
  "cells": [
    {
      "cell_type": "markdown",
      "source": [
        "## 실행방법\n",
        "1. colab의 런타임을 GPU로 바꾸어주세요.\n",
        "2. 차례대로 코드를 실행합니다.\n",
        "3. 예시 전까지의 코드를 실행한 후, \n",
        "4. 가장 마지막 부분에 실행코드에 원하는 context와 질문을 입력하고 엔터를 눌러주세요.\n",
        "###주의사항\n",
        "Optimizer을 통해 모델을 학습시키는 시간이 조금 오래걸릴 수 있습니다.   \n"
      ],
      "metadata": {
        "id": "UJeEsHeVRPTC"
      }
    },
    {
      "cell_type": "markdown",
      "source": [
        "# KcBERT QA Model"
      ],
      "metadata": {
        "id": "3oUw63q2Z3z5"
      }
    },
    {
      "cell_type": "code",
      "source": [
        "from tensorflow.python.client import device_lib\n",
        "device_lib.list_local_devices()"
      ],
      "metadata": {
        "colab": {
          "base_uri": "https://localhost:8080/"
        },
        "id": "o3pR2m4hAdi3",
        "outputId": "d613eb2a-6fb6-4301-9c57-b0fa6ef59922"
      },
      "execution_count": null,
      "outputs": [
        {
          "output_type": "execute_result",
          "data": {
            "text/plain": [
              "[name: \"/device:CPU:0\"\n",
              " device_type: \"CPU\"\n",
              " memory_limit: 268435456\n",
              " locality {\n",
              " }\n",
              " incarnation: 6057250334689329171\n",
              " xla_global_id: -1, name: \"/device:GPU:0\"\n",
              " device_type: \"GPU\"\n",
              " memory_limit: 14415560704\n",
              " locality {\n",
              "   bus_id: 1\n",
              "   links {\n",
              "   }\n",
              " }\n",
              " incarnation: 1581825597300047366\n",
              " physical_device_desc: \"device: 0, name: Tesla T4, pci bus id: 0000:00:04.0, compute capability: 7.5\"\n",
              " xla_global_id: 416903419]"
            ]
          },
          "metadata": {},
          "execution_count": 79
        }
      ]
    },
    {
      "cell_type": "code",
      "source": [
        "!pip install transformers"
      ],
      "metadata": {
        "colab": {
          "base_uri": "https://localhost:8080/"
        },
        "id": "SPiWddRNA2JW",
        "outputId": "2d572e8b-726a-463b-9f33-4034e085d780"
      },
      "execution_count": null,
      "outputs": [
        {
          "output_type": "stream",
          "name": "stdout",
          "text": [
            "Looking in indexes: https://pypi.org/simple, https://us-python.pkg.dev/colab-wheels/public/simple/\n",
            "Requirement already satisfied: transformers in /usr/local/lib/python3.8/dist-packages (4.25.1)\n",
            "Requirement already satisfied: tqdm>=4.27 in /usr/local/lib/python3.8/dist-packages (from transformers) (4.64.1)\n",
            "Requirement already satisfied: packaging>=20.0 in /usr/local/lib/python3.8/dist-packages (from transformers) (21.3)\n",
            "Requirement already satisfied: filelock in /usr/local/lib/python3.8/dist-packages (from transformers) (3.8.0)\n",
            "Requirement already satisfied: huggingface-hub<1.0,>=0.10.0 in /usr/local/lib/python3.8/dist-packages (from transformers) (0.11.1)\n",
            "Requirement already satisfied: regex!=2019.12.17 in /usr/local/lib/python3.8/dist-packages (from transformers) (2022.6.2)\n",
            "Requirement already satisfied: tokenizers!=0.11.3,<0.14,>=0.11.1 in /usr/local/lib/python3.8/dist-packages (from transformers) (0.13.2)\n",
            "Requirement already satisfied: numpy>=1.17 in /usr/local/lib/python3.8/dist-packages (from transformers) (1.21.6)\n",
            "Requirement already satisfied: requests in /usr/local/lib/python3.8/dist-packages (from transformers) (2.23.0)\n",
            "Requirement already satisfied: pyyaml>=5.1 in /usr/local/lib/python3.8/dist-packages (from transformers) (6.0)\n",
            "Requirement already satisfied: typing-extensions>=3.7.4.3 in /usr/local/lib/python3.8/dist-packages (from huggingface-hub<1.0,>=0.10.0->transformers) (4.4.0)\n",
            "Requirement already satisfied: pyparsing!=3.0.5,>=2.0.2 in /usr/local/lib/python3.8/dist-packages (from packaging>=20.0->transformers) (3.0.9)\n",
            "Requirement already satisfied: chardet<4,>=3.0.2 in /usr/local/lib/python3.8/dist-packages (from requests->transformers) (3.0.4)\n",
            "Requirement already satisfied: idna<3,>=2.5 in /usr/local/lib/python3.8/dist-packages (from requests->transformers) (2.10)\n",
            "Requirement already satisfied: urllib3!=1.25.0,!=1.25.1,<1.26,>=1.21.1 in /usr/local/lib/python3.8/dist-packages (from requests->transformers) (1.24.3)\n",
            "Requirement already satisfied: certifi>=2017.4.17 in /usr/local/lib/python3.8/dist-packages (from requests->transformers) (2022.9.24)\n"
          ]
        }
      ]
    },
    {
      "cell_type": "code",
      "source": [
        "from transformers import AutoTokenizer, TFAutoModelForQuestionAnswering, QuestionAnsweringPipeline\n",
        "import tensorflow as tf\n",
        "import tqdm.notebook\n",
        "import math"
      ],
      "metadata": {
        "id": "ZB-EC9upAdzO"
      },
      "execution_count": null,
      "outputs": []
    },
    {
      "cell_type": "code",
      "source": [
        "model = TFAutoModelForQuestionAnswering.from_pretrained('beomi/kcbert-base', from_pt=True)\n",
        "tokenizer = AutoTokenizer.from_pretrained('beomi/kcbert-base')"
      ],
      "metadata": {
        "colab": {
          "base_uri": "https://localhost:8080/"
        },
        "id": "DI8dnhfJAob0",
        "outputId": "6f5a51bf-528a-4388-9557-9e3a35a548b1"
      },
      "execution_count": null,
      "outputs": [
        {
          "output_type": "stream",
          "name": "stderr",
          "text": [
            "All PyTorch model weights were used when initializing TFBertForQuestionAnswering.\n",
            "\n",
            "Some weights or buffers of the TF 2.0 model TFBertForQuestionAnswering were not initialized from the PyTorch model and are newly initialized: ['qa_outputs.weight', 'qa_outputs.bias']\n",
            "You should probably TRAIN this model on a down-stream task to be able to use it for predictions and inference.\n"
          ]
        }
      ]
    },
    {
      "cell_type": "code",
      "source": [
        "qa = QuestionAnsweringPipeline(model=model, tokenizer=tokenizer)"
      ],
      "metadata": {
        "id": "6oie25tdBErF"
      },
      "execution_count": null,
      "outputs": []
    },
    {
      "cell_type": "code",
      "source": [
        "context = '정답을 찾을 문맥을 입력해주세요'"
      ],
      "metadata": {
        "id": "vIeRvqkSBG6N"
      },
      "execution_count": null,
      "outputs": []
    },
    {
      "cell_type": "code",
      "source": [
        "question = '질문을 입력해주세요'"
      ],
      "metadata": {
        "id": "TUCmwWgNBHZ_"
      },
      "execution_count": null,
      "outputs": []
    },
    {
      "cell_type": "code",
      "source": [
        "qa(question=question, context=context)"
      ],
      "metadata": {
        "colab": {
          "base_uri": "https://localhost:8080/"
        },
        "id": "MgwFfndLBIW0",
        "outputId": "9b280958-2973-4809-a1b6-3e967af0824f"
      },
      "execution_count": null,
      "outputs": [
        {
          "output_type": "execute_result",
          "data": {
            "text/plain": [
              "{'score': 0.034865111112594604, 'start': 7, 'end': 17, 'answer': '문맥을 입력해주세요'}"
            ]
          },
          "metadata": {},
          "execution_count": 86
        }
      ]
    },
    {
      "cell_type": "code",
      "source": [
        "qa(question='질문을 입력해주세요', context=context)"
      ],
      "metadata": {
        "colab": {
          "base_uri": "https://localhost:8080/"
        },
        "id": "cSJcNIXEBKQ-",
        "outputId": "398fe74a-37a3-45bf-8b1c-0549e5f881bb"
      },
      "execution_count": null,
      "outputs": [
        {
          "output_type": "execute_result",
          "data": {
            "text/plain": [
              "{'score': 0.034865111112594604, 'start': 7, 'end': 17, 'answer': '문맥을 입력해주세요'}"
            ]
          },
          "metadata": {},
          "execution_count": 87
        }
      ]
    },
    {
      "cell_type": "code",
      "source": [
        "from transformers import AutoTokenizer, TFAutoModelForQuestionAnswering, QuestionAnsweringPipeline\n",
        "import tensorflow as tf\n",
        "import urllib.request\n",
        "import json"
      ],
      "metadata": {
        "id": "Birkuv_FBb6N"
      },
      "execution_count": null,
      "outputs": []
    },
    {
      "cell_type": "markdown",
      "source": [
        "##KorQuAD 데이터셋 불러오기"
      ],
      "metadata": {
        "id": "d2IW-gOsPe7z"
      }
    },
    {
      "cell_type": "code",
      "source": [
        "urllib.request.urlretrieve('https://korquad.github.io/dataset/KorQuAD_v1.0_train.json', 'korquad.json')"
      ],
      "metadata": {
        "colab": {
          "base_uri": "https://localhost:8080/"
        },
        "id": "1gBjfu1hBeHL",
        "outputId": "7493f09d-fc0f-4611-ddde-a2e764595575"
      },
      "execution_count": null,
      "outputs": [
        {
          "output_type": "execute_result",
          "data": {
            "text/plain": [
              "('korquad.json', <http.client.HTTPMessage at 0x7fb462387d30>)"
            ]
          },
          "metadata": {},
          "execution_count": 89
        }
      ]
    },
    {
      "cell_type": "code",
      "source": [
        "korquad = json.load(open('korquad.json', encoding='utf8'))"
      ],
      "metadata": {
        "id": "MLmqAkouBfwI"
      },
      "execution_count": null,
      "outputs": []
    },
    {
      "cell_type": "code",
      "source": [
        "korquad['data'][0]"
      ],
      "metadata": {
        "colab": {
          "base_uri": "https://localhost:8080/"
        },
        "id": "3XSfN8yBBhZ9",
        "outputId": "ba3aeaad-74f2-455b-9a63-e4ab820d4802"
      },
      "execution_count": null,
      "outputs": [
        {
          "output_type": "execute_result",
          "data": {
            "text/plain": [
              "{'paragraphs': [{'qas': [{'answers': [{'text': '교향곡', 'answer_start': 54}],\n",
              "     'id': '6566495-0-0',\n",
              "     'question': '바그너는 괴테의 파우스트를 읽고 무엇을 쓰고자 했는가?'},\n",
              "    {'answers': [{'text': '1악장', 'answer_start': 421}],\n",
              "     'id': '6566495-0-1',\n",
              "     'question': '바그너는 교향곡 작곡을 어디까지 쓴 뒤에 중단했는가?'},\n",
              "    {'answers': [{'text': '베토벤의 교향곡 9번', 'answer_start': 194}],\n",
              "     'id': '6566495-0-2',\n",
              "     'question': '바그너가 파우스트 서곡을 쓸 때 어떤 곡의 영향을 받았는가?'},\n",
              "    {'answers': [{'text': '파우스트', 'answer_start': 15}],\n",
              "     'id': '6566518-0-0',\n",
              "     'question': '1839년 바그너가 교향곡의 소재로 쓰려고 했던 책은?'},\n",
              "    {'answers': [{'text': '합창교향곡', 'answer_start': 354}],\n",
              "     'id': '6566518-0-1',\n",
              "     'question': '파우스트 서곡의 라단조 조성이 영향을 받은 베토벤의 곡은?'},\n",
              "    {'answers': [{'text': '1839', 'answer_start': 0}],\n",
              "     'id': '5917067-0-0',\n",
              "     'question': '바그너가 파우스트를 처음으로 읽은 년도는?'},\n",
              "    {'answers': [{'text': '파리', 'answer_start': 410}],\n",
              "     'id': '5917067-0-1',\n",
              "     'question': '바그너가 처음 교향곡 작곡을 한 장소는?'},\n",
              "    {'answers': [{'text': '드레스덴', 'answer_start': 534}],\n",
              "     'id': '5917067-0-2',\n",
              "     'question': '바그너의 1악장의 초연은 어디서 연주되었는가?'}],\n",
              "   'context': '1839년 바그너는 괴테의 파우스트을 처음 읽고 그 내용에 마음이 끌려 이를 소재로 해서 하나의 교향곡을 쓰려는 뜻을 갖는다. 이 시기 바그너는 1838년에 빛 독촉으로 산전수전을 다 걲은 상황이라 좌절과 실망에 가득했으며 메피스토펠레스를 만나는 파우스트의 심경에 공감했다고 한다. 또한 파리에서 아브네크의 지휘로 파리 음악원 관현악단이 연주하는 베토벤의 교향곡 9번을 듣고 깊은 감명을 받았는데, 이것이 이듬해 1월에 파우스트의 서곡으로 쓰여진 이 작품에 조금이라도 영향을 끼쳤으리라는 것은 의심할 여지가 없다. 여기의 라단조 조성의 경우에도 그의 전기에 적혀 있는 것처럼 단순한 정신적 피로나 실의가 반영된 것이 아니라 베토벤의 합창교향곡 조성의 영향을 받은 것을 볼 수 있다. 그렇게 교향곡 작곡을 1839년부터 40년에 걸쳐 파리에서 착수했으나 1악장을 쓴 뒤에 중단했다. 또한 작품의 완성과 동시에 그는 이 서곡(1악장)을 파리 음악원의 연주회에서 연주할 파트보까지 준비하였으나, 실제로는 이루어지지는 않았다. 결국 초연은 4년 반이 지난 후에 드레스덴에서 연주되었고 재연도 이루어졌지만, 이후에 그대로 방치되고 말았다. 그 사이에 그는 리엔치와 방황하는 네덜란드인을 완성하고 탄호이저에도 착수하는 등 분주한 시간을 보냈는데, 그런 바쁜 생활이 이 곡을 잊게 한 것이 아닌가 하는 의견도 있다.'},\n",
              "  {'qas': [{'answers': [{'text': '한스 폰 뷜로', 'answer_start': 402}],\n",
              "     'id': '6566495-1-0',\n",
              "     'question': '바그너의 작품을 시인의 피로 쓰여졌다고 극찬한 것은 누구인가?'},\n",
              "    {'answers': [{'text': '리스트', 'answer_start': 23}],\n",
              "     'id': '6566495-1-1',\n",
              "     'question': '잊혀져 있는 파우스트 서곡 1악장을 부활시킨 것은 누구인가?'},\n",
              "    {'answers': [{'text': '20루이의 금', 'answer_start': 345}],\n",
              "     'id': '6566495-1-2',\n",
              "     'question': '바그너는 다시 개정된 총보를 얼마를 받고 팔았는가?'},\n",
              "    {'answers': [{'text': '리스트', 'answer_start': 23}],\n",
              "     'id': '6566518-1-0',\n",
              "     'question': '파우스트 교향곡을 부활시킨 사람은?'},\n",
              "    {'answers': [{'text': '한스 폰 뷜로', 'answer_start': 402}],\n",
              "     'id': '6566518-1-1',\n",
              "     'question': '파우스트 교향곡을 피아노 독주용으로 편곡한 사람은?'},\n",
              "    {'answers': [{'text': '리스트', 'answer_start': 23}],\n",
              "     'id': '5917067-1-0',\n",
              "     'question': '1악장을 부활시켜 연주한 사람은?'},\n",
              "    {'answers': [{'text': '한스 폰 뷜로', 'answer_start': 402}],\n",
              "     'id': '5917067-1-1',\n",
              "     'question': '파우스트 교향곡에 감탄하여 피아노곡으로 편곡한 사람은?'},\n",
              "    {'answers': [{'text': '1840년', 'answer_start': 3}],\n",
              "     'id': '5917067-1-2',\n",
              "     'question': '리스트가 바그너와 알게 된 연도는?'}],\n",
              "   'context': '한편 1840년부터 바그너와 알고 지내던 리스트가 잊혀져 있던 1악장을 부활시켜 1852년에 바이마르에서 연주했다. 이것을 계기로 바그너도 이 작품에 다시 관심을 갖게 되었고, 그 해 9월에는 총보의 반환을 요구하여 이를 서곡으로 간추린 다음 수정을 했고 브라이트코프흐 & 헤르텔 출판사에서 출판할 개정판도 준비했다. 1853년 5월에는 리스트가 이 작품이 수정되었다는 것을 인정했지만, 끝내 바그너의 출판 계획은 무산되고 말았다. 이후 1855년에 리스트가 자신의 작품 파우스트 교향곡을 거의 완성하여 그 사실을 바그너에게 알렸고, 바그너는 다시 개정된 총보를 리스트에게 보내고 브라이트코프흐 & 헤르텔 출판사에는 20루이의 금을 받고 팔았다. 또한 그의 작품을 “하나하나의 음표가 시인의 피로 쓰여졌다”며 극찬했던 한스 폰 뷜로가 그것을 피아노 독주용으로 편곡했는데, 리스트는 그것을 약간 변형되었을 뿐이라고 지적했다. 이 서곡의 총보 첫머리에는 파우스트 1부의 내용 중 한 구절을 인용하고 있다.'},\n",
              "  {'qas': [{'answers': [{'text': '주제, 동기', 'answer_start': 70}],\n",
              "     'id': '6566495-2-0',\n",
              "     'question': '서주에는 무엇이 암시되어 있는가?'},\n",
              "    {'answers': [{'text': '제1바이올린', 'answer_start': 148}],\n",
              "     'id': '6566495-2-1',\n",
              "     'question': '첫부분에는 어떤 악기를 사용해 더욱 명확하게 나타내는가?'},\n",
              "    {'answers': [{'text': '소나타 형식', 'answer_start': 272}],\n",
              "     'id': '6566495-2-2',\n",
              "     'question': '주요부는 어떤 형식으로 되어 있는가?'},\n",
              "    {'answers': [{'text': '저음 주제', 'answer_start': 102}],\n",
              "     'id': '6566518-2-0',\n",
              "     'question': '첫 부분의 주요주제를 암시하는 주제는?'},\n",
              "    {'answers': [{'text': 'D장조', 'answer_start': 409}],\n",
              "     'id': '6566518-2-1',\n",
              "     'question': '제2주제의 축소된 재현부의 조성은?'},\n",
              "    {'answers': [{'text': '4/4박자', 'answer_start': 35}],\n",
              "     'id': '5917067-2-0',\n",
              "     'question': '곡이 시작할때의 박자는?'},\n",
              "    {'answers': [{'text': '고뇌와 갈망 동기, 청춘의 사랑 동기', 'answer_start': 115}],\n",
              "     'id': '5917067-2-1',\n",
              "     'question': '이 곡의 주요 주제는?'},\n",
              "    {'answers': [{'text': 'D장조', 'answer_start': 409}],\n",
              "     'id': '5917067-2-2',\n",
              "     'question': '제 2주제에선 무슨 장조로 재현되는가?'}],\n",
              "   'context': '이 작품은 라단조, Sehr gehalten(아주 신중하게), 4/4박자의 부드러운 서주로 서주로 시작되는데, 여기에는 주요 주제, 동기의 대부분이 암시, 예고되어 있다. 첫 부분의 저음 주제는 주요 주제(고뇌와 갈망 동기, 청춘의 사랑 동기)를 암시하고 있으며, 제1바이올린으로 더욱 명확하게 나타난다. 또한 그것을 이어받는 동기도 중요한 역할을 한다. 여기에 새로운 소재가 더해진 뒤에 새로운 주제도 연주된다. 주요부는 Sehr bewegt(아주 격동적으로), 2/2박자의 자유로운 소나타 형식으로 매우 드라마틱한 구상과 유기적인 구성을 하고 있다. 여기에는 지금까지의 주제나 소재 외에도 오보에에 의한 선율과 제2주제를 떠올리게 하는 부차적인 주제가 더해지는데, 중간부에서는 약보3이 중심이 되고 제2주제는 축소된 재현부에서 D장조로 재현된다. 마지막에는 주요 주제를 회상하면서 조용히 마친다.'}],\n",
              " 'title': '파우스트_서곡'}"
            ]
          },
          "metadata": {},
          "execution_count": 91
        }
      ]
    },
    {
      "cell_type": "code",
      "source": [
        "para = korquad['data'][0]['paragraphs'][0]\n",
        "para"
      ],
      "metadata": {
        "colab": {
          "base_uri": "https://localhost:8080/"
        },
        "id": "-1OGg0mvBj_t",
        "outputId": "25b6a0f2-5ff6-46e8-c90b-a93b927a1ba4"
      },
      "execution_count": null,
      "outputs": [
        {
          "output_type": "execute_result",
          "data": {
            "text/plain": [
              "{'qas': [{'answers': [{'text': '교향곡', 'answer_start': 54}],\n",
              "   'id': '6566495-0-0',\n",
              "   'question': '바그너는 괴테의 파우스트를 읽고 무엇을 쓰고자 했는가?'},\n",
              "  {'answers': [{'text': '1악장', 'answer_start': 421}],\n",
              "   'id': '6566495-0-1',\n",
              "   'question': '바그너는 교향곡 작곡을 어디까지 쓴 뒤에 중단했는가?'},\n",
              "  {'answers': [{'text': '베토벤의 교향곡 9번', 'answer_start': 194}],\n",
              "   'id': '6566495-0-2',\n",
              "   'question': '바그너가 파우스트 서곡을 쓸 때 어떤 곡의 영향을 받았는가?'},\n",
              "  {'answers': [{'text': '파우스트', 'answer_start': 15}],\n",
              "   'id': '6566518-0-0',\n",
              "   'question': '1839년 바그너가 교향곡의 소재로 쓰려고 했던 책은?'},\n",
              "  {'answers': [{'text': '합창교향곡', 'answer_start': 354}],\n",
              "   'id': '6566518-0-1',\n",
              "   'question': '파우스트 서곡의 라단조 조성이 영향을 받은 베토벤의 곡은?'},\n",
              "  {'answers': [{'text': '1839', 'answer_start': 0}],\n",
              "   'id': '5917067-0-0',\n",
              "   'question': '바그너가 파우스트를 처음으로 읽은 년도는?'},\n",
              "  {'answers': [{'text': '파리', 'answer_start': 410}],\n",
              "   'id': '5917067-0-1',\n",
              "   'question': '바그너가 처음 교향곡 작곡을 한 장소는?'},\n",
              "  {'answers': [{'text': '드레스덴', 'answer_start': 534}],\n",
              "   'id': '5917067-0-2',\n",
              "   'question': '바그너의 1악장의 초연은 어디서 연주되었는가?'}],\n",
              " 'context': '1839년 바그너는 괴테의 파우스트을 처음 읽고 그 내용에 마음이 끌려 이를 소재로 해서 하나의 교향곡을 쓰려는 뜻을 갖는다. 이 시기 바그너는 1838년에 빛 독촉으로 산전수전을 다 걲은 상황이라 좌절과 실망에 가득했으며 메피스토펠레스를 만나는 파우스트의 심경에 공감했다고 한다. 또한 파리에서 아브네크의 지휘로 파리 음악원 관현악단이 연주하는 베토벤의 교향곡 9번을 듣고 깊은 감명을 받았는데, 이것이 이듬해 1월에 파우스트의 서곡으로 쓰여진 이 작품에 조금이라도 영향을 끼쳤으리라는 것은 의심할 여지가 없다. 여기의 라단조 조성의 경우에도 그의 전기에 적혀 있는 것처럼 단순한 정신적 피로나 실의가 반영된 것이 아니라 베토벤의 합창교향곡 조성의 영향을 받은 것을 볼 수 있다. 그렇게 교향곡 작곡을 1839년부터 40년에 걸쳐 파리에서 착수했으나 1악장을 쓴 뒤에 중단했다. 또한 작품의 완성과 동시에 그는 이 서곡(1악장)을 파리 음악원의 연주회에서 연주할 파트보까지 준비하였으나, 실제로는 이루어지지는 않았다. 결국 초연은 4년 반이 지난 후에 드레스덴에서 연주되었고 재연도 이루어졌지만, 이후에 그대로 방치되고 말았다. 그 사이에 그는 리엔치와 방황하는 네덜란드인을 완성하고 탄호이저에도 착수하는 등 분주한 시간을 보냈는데, 그런 바쁜 생활이 이 곡을 잊게 한 것이 아닌가 하는 의견도 있다.'}"
            ]
          },
          "metadata": {},
          "execution_count": 92
        }
      ]
    },
    {
      "cell_type": "code",
      "source": [
        "# 데이터셋의 context 불러오기\n",
        "para['context']"
      ],
      "metadata": {
        "colab": {
          "base_uri": "https://localhost:8080/",
          "height": 126
        },
        "id": "rqLnVJfOBqvR",
        "outputId": "c609c9c1-b1c1-418a-d624-888b8e169a9e"
      },
      "execution_count": null,
      "outputs": [
        {
          "output_type": "execute_result",
          "data": {
            "text/plain": [
              "'1839년 바그너는 괴테의 파우스트을 처음 읽고 그 내용에 마음이 끌려 이를 소재로 해서 하나의 교향곡을 쓰려는 뜻을 갖는다. 이 시기 바그너는 1838년에 빛 독촉으로 산전수전을 다 걲은 상황이라 좌절과 실망에 가득했으며 메피스토펠레스를 만나는 파우스트의 심경에 공감했다고 한다. 또한 파리에서 아브네크의 지휘로 파리 음악원 관현악단이 연주하는 베토벤의 교향곡 9번을 듣고 깊은 감명을 받았는데, 이것이 이듬해 1월에 파우스트의 서곡으로 쓰여진 이 작품에 조금이라도 영향을 끼쳤으리라는 것은 의심할 여지가 없다. 여기의 라단조 조성의 경우에도 그의 전기에 적혀 있는 것처럼 단순한 정신적 피로나 실의가 반영된 것이 아니라 베토벤의 합창교향곡 조성의 영향을 받은 것을 볼 수 있다. 그렇게 교향곡 작곡을 1839년부터 40년에 걸쳐 파리에서 착수했으나 1악장을 쓴 뒤에 중단했다. 또한 작품의 완성과 동시에 그는 이 서곡(1악장)을 파리 음악원의 연주회에서 연주할 파트보까지 준비하였으나, 실제로는 이루어지지는 않았다. 결국 초연은 4년 반이 지난 후에 드레스덴에서 연주되었고 재연도 이루어졌지만, 이후에 그대로 방치되고 말았다. 그 사이에 그는 리엔치와 방황하는 네덜란드인을 완성하고 탄호이저에도 착수하는 등 분주한 시간을 보냈는데, 그런 바쁜 생활이 이 곡을 잊게 한 것이 아닌가 하는 의견도 있다.'"
            ],
            "application/vnd.google.colaboratory.intrinsic+json": {
              "type": "string"
            }
          },
          "metadata": {},
          "execution_count": 93
        }
      ]
    },
    {
      "cell_type": "code",
      "source": [
        "# 데이터셋의 질문과 답\n",
        "qas = para['qas'][0]\n",
        "qas"
      ],
      "metadata": {
        "colab": {
          "base_uri": "https://localhost:8080/"
        },
        "id": "gUd4CW1NBtXf",
        "outputId": "ccf58b87-d579-4f63-df64-0718550da7a5"
      },
      "execution_count": null,
      "outputs": [
        {
          "output_type": "execute_result",
          "data": {
            "text/plain": [
              "{'answers': [{'text': '교향곡', 'answer_start': 54}],\n",
              " 'id': '6566495-0-0',\n",
              " 'question': '바그너는 괴테의 파우스트를 읽고 무엇을 쓰고자 했는가?'}"
            ]
          },
          "metadata": {},
          "execution_count": 94
        }
      ]
    },
    {
      "cell_type": "code",
      "source": [
        "inputs = tokenizer(para['context'], \n",
        "                   qas['question'], \n",
        "                   truncation=True, \n",
        "                   max_length=tokenizer.model_max_length, \n",
        "                   return_tensors='tf')\n",
        "inputs"
      ],
      "metadata": {
        "colab": {
          "base_uri": "https://localhost:8080/"
        },
        "id": "n6fy8S2xBvJY",
        "outputId": "f794570e-5754-4b99-8a3c-829372ef24dd"
      },
      "execution_count": null,
      "outputs": [
        {
          "output_type": "execute_result",
          "data": {
            "text/plain": [
              "{'input_ids': <tf.Tensor: shape=(1, 300), dtype=int32, numpy=\n",
              "array([[    2,  8601,  4633, 29697,  1480,  4313,  4538,  4008,   336,\n",
              "         4065,  4042,  3231, 23243,  4104,  4027,  8793, 13985,   391,\n",
              "         9132,  4113, 10966, 11728, 12023, 14657,  4091,  8598, 16639,\n",
              "          341,  4573,  4771,  4027,  2139,  8478, 14416,   214,  8202,\n",
              "           17,  2451, 13007,  1480,  4313,  4538,  4008,  8601,  4633,\n",
              "        22903,  4113,  1676,   868,  4913,  7965,  1789,  4203,  4110,\n",
              "        15031,   786,   250,  4057, 10878,  4007,  2593,  4094,  4128,\n",
              "        10289,  4113, 10958,  4062,  9511,  1355,  4600,  4103,  4775,\n",
              "         5602, 10770,  4180, 26732,  3231, 23243,  4104,  4042,  2015,\n",
              "         4012,  4113,  9198,  8763,  8129,    17, 10384, 23008,  7971,\n",
              "         2170,  4408,  4011,  4147,  4042, 17015,  4091, 23008, 21056,\n",
              "         4165,   323,  4175,  4158, 11413,  2273,  4043,  7966,  1543,\n",
              "         4775,  4170,  4042,   341,  4573,  4771,    28,  4566,  4027,\n",
              "        10599, 18907,   208,  9504, 24835,    15, 11060,  2451,  4780,\n",
              "         4032, 18548,  4113,  3231, 23243,  4104,  4042,  1843,  4771,\n",
              "         7965, 28987,  4153,  2451, 15489,  4113, 13928, 17283,   575,\n",
              "         4261, 26783,  8114,  8852,  9107,  4082, 28498,  8131,    17,\n",
              "         8225,  4042,  1114,  4281,  4194, 17138,  4042,  9961,  8222,\n",
              "        14041, 10892,  4113,  2524,  4443,  8032, 12710, 21602, 18625,\n",
              "        24569,  4136,  2009, 11012, 17068,  4130,  8544,  8141,  1543,\n",
              "         4775,  4170,  4042,  3367,  4183,  4267,  4573,  4771, 17138,\n",
              "         4042, 17283,  9838,  9153,  1576,  1931,  8120,    17,  8117,\n",
              "          341,  4573,  4771,  2478,  4771,  4027,  8601,  4633, 29697,\n",
              "         8042, 25305,  4113,   254,  4133, 23008,  7971,  2840,  4110,\n",
              "         4062, 10410,    20,  4158,  8915,  2141, 11726, 13014,  8258,\n",
              "           17, 10384, 15489,  4042, 16520,  4128, 15831, 20048,  2451,\n",
              "         1843,  4771,    11,    20,  4158,  4099,    12,  2424, 23008,\n",
              "        21056, 18639,  2273,  4043, 27703,  2273,  4043,  4082,  3231,\n",
              "         4104,  4010,  7999,  9242, 22504, 10410,    15, 26271, 11877,\n",
              "         8840,  4008, 12626,    17,  8340,  2906,  4132,  4057, 16243,\n",
              "         1483,  4017,  9403, 14180,   947, 10770,  5076,  7971,  2273,\n",
              "         4043, 24984,     3,  1480,  4313,  4538,  4008,   336,  4065,\n",
              "         4042,  3231, 23243, 19143, 13985, 12449,  9194,  4105,  3385,\n",
              "         9411,    32,     3]], dtype=int32)>, 'token_type_ids': <tf.Tensor: shape=(1, 300), dtype=int32, numpy=\n",
              "array([[0, 0, 0, 0, 0, 0, 0, 0, 0, 0, 0, 0, 0, 0, 0, 0, 0, 0, 0, 0, 0, 0,\n",
              "        0, 0, 0, 0, 0, 0, 0, 0, 0, 0, 0, 0, 0, 0, 0, 0, 0, 0, 0, 0, 0, 0,\n",
              "        0, 0, 0, 0, 0, 0, 0, 0, 0, 0, 0, 0, 0, 0, 0, 0, 0, 0, 0, 0, 0, 0,\n",
              "        0, 0, 0, 0, 0, 0, 0, 0, 0, 0, 0, 0, 0, 0, 0, 0, 0, 0, 0, 0, 0, 0,\n",
              "        0, 0, 0, 0, 0, 0, 0, 0, 0, 0, 0, 0, 0, 0, 0, 0, 0, 0, 0, 0, 0, 0,\n",
              "        0, 0, 0, 0, 0, 0, 0, 0, 0, 0, 0, 0, 0, 0, 0, 0, 0, 0, 0, 0, 0, 0,\n",
              "        0, 0, 0, 0, 0, 0, 0, 0, 0, 0, 0, 0, 0, 0, 0, 0, 0, 0, 0, 0, 0, 0,\n",
              "        0, 0, 0, 0, 0, 0, 0, 0, 0, 0, 0, 0, 0, 0, 0, 0, 0, 0, 0, 0, 0, 0,\n",
              "        0, 0, 0, 0, 0, 0, 0, 0, 0, 0, 0, 0, 0, 0, 0, 0, 0, 0, 0, 0, 0, 0,\n",
              "        0, 0, 0, 0, 0, 0, 0, 0, 0, 0, 0, 0, 0, 0, 0, 0, 0, 0, 0, 0, 0, 0,\n",
              "        0, 0, 0, 0, 0, 0, 0, 0, 0, 0, 0, 0, 0, 0, 0, 0, 0, 0, 0, 0, 0, 0,\n",
              "        0, 0, 0, 0, 0, 0, 0, 0, 0, 0, 0, 0, 0, 0, 0, 0, 0, 0, 0, 0, 0, 0,\n",
              "        0, 0, 0, 0, 0, 0, 0, 0, 0, 0, 0, 0, 0, 0, 0, 0, 0, 0, 1, 1, 1, 1,\n",
              "        1, 1, 1, 1, 1, 1, 1, 1, 1, 1, 1, 1, 1, 1]], dtype=int32)>, 'attention_mask': <tf.Tensor: shape=(1, 300), dtype=int32, numpy=\n",
              "array([[1, 1, 1, 1, 1, 1, 1, 1, 1, 1, 1, 1, 1, 1, 1, 1, 1, 1, 1, 1, 1, 1,\n",
              "        1, 1, 1, 1, 1, 1, 1, 1, 1, 1, 1, 1, 1, 1, 1, 1, 1, 1, 1, 1, 1, 1,\n",
              "        1, 1, 1, 1, 1, 1, 1, 1, 1, 1, 1, 1, 1, 1, 1, 1, 1, 1, 1, 1, 1, 1,\n",
              "        1, 1, 1, 1, 1, 1, 1, 1, 1, 1, 1, 1, 1, 1, 1, 1, 1, 1, 1, 1, 1, 1,\n",
              "        1, 1, 1, 1, 1, 1, 1, 1, 1, 1, 1, 1, 1, 1, 1, 1, 1, 1, 1, 1, 1, 1,\n",
              "        1, 1, 1, 1, 1, 1, 1, 1, 1, 1, 1, 1, 1, 1, 1, 1, 1, 1, 1, 1, 1, 1,\n",
              "        1, 1, 1, 1, 1, 1, 1, 1, 1, 1, 1, 1, 1, 1, 1, 1, 1, 1, 1, 1, 1, 1,\n",
              "        1, 1, 1, 1, 1, 1, 1, 1, 1, 1, 1, 1, 1, 1, 1, 1, 1, 1, 1, 1, 1, 1,\n",
              "        1, 1, 1, 1, 1, 1, 1, 1, 1, 1, 1, 1, 1, 1, 1, 1, 1, 1, 1, 1, 1, 1,\n",
              "        1, 1, 1, 1, 1, 1, 1, 1, 1, 1, 1, 1, 1, 1, 1, 1, 1, 1, 1, 1, 1, 1,\n",
              "        1, 1, 1, 1, 1, 1, 1, 1, 1, 1, 1, 1, 1, 1, 1, 1, 1, 1, 1, 1, 1, 1,\n",
              "        1, 1, 1, 1, 1, 1, 1, 1, 1, 1, 1, 1, 1, 1, 1, 1, 1, 1, 1, 1, 1, 1,\n",
              "        1, 1, 1, 1, 1, 1, 1, 1, 1, 1, 1, 1, 1, 1, 1, 1, 1, 1, 1, 1, 1, 1,\n",
              "        1, 1, 1, 1, 1, 1, 1, 1, 1, 1, 1, 1, 1, 1]], dtype=int32)>}"
            ]
          },
          "metadata": {},
          "execution_count": 95
        }
      ]
    },
    {
      "cell_type": "code",
      "source": [
        "q = qas['answers'][0]\n",
        "\n",
        "start_char = q['answer_start']\n",
        "end_char = start_char + len(q['text']) - 1\n",
        "\n",
        "start = inputs.char_to_token(0, start_char)\n",
        "end = inputs.char_to_token(0, end_char)"
      ],
      "metadata": {
        "id": "_iLTydrCBxrq"
      },
      "execution_count": null,
      "outputs": []
    },
    {
      "cell_type": "code",
      "source": [
        "# 글자의 위치print(start_char)\n",
        "print(end_char)"
      ],
      "metadata": {
        "colab": {
          "base_uri": "https://localhost:8080/"
        },
        "id": "TozsTmKhBzDX",
        "outputId": "3af414ac-b78f-44c1-aa36-1ed22f24417b"
      },
      "execution_count": null,
      "outputs": [
        {
          "output_type": "stream",
          "name": "stdout",
          "text": [
            "56\n"
          ]
        }
      ]
    },
    {
      "cell_type": "code",
      "source": [
        "print(start)\n",
        "print(end)"
      ],
      "metadata": {
        "colab": {
          "base_uri": "https://localhost:8080/"
        },
        "id": "n2bN_IzEBzna",
        "outputId": "9f2b5d1c-7311-48fe-c6e8-074dc055fde7"
      },
      "execution_count": null,
      "outputs": [
        {
          "output_type": "stream",
          "name": "stdout",
          "text": [
            "27\n",
            "29\n"
          ]
        }
      ]
    },
    {
      "cell_type": "code",
      "source": [
        "inputs['input_ids']"
      ],
      "metadata": {
        "colab": {
          "base_uri": "https://localhost:8080/"
        },
        "id": "rHA7zsTABziU",
        "outputId": "b1928370-c43a-4e98-ea15-6c8ef6a11809"
      },
      "execution_count": null,
      "outputs": [
        {
          "output_type": "execute_result",
          "data": {
            "text/plain": [
              "<tf.Tensor: shape=(1, 300), dtype=int32, numpy=\n",
              "array([[    2,  8601,  4633, 29697,  1480,  4313,  4538,  4008,   336,\n",
              "         4065,  4042,  3231, 23243,  4104,  4027,  8793, 13985,   391,\n",
              "         9132,  4113, 10966, 11728, 12023, 14657,  4091,  8598, 16639,\n",
              "          341,  4573,  4771,  4027,  2139,  8478, 14416,   214,  8202,\n",
              "           17,  2451, 13007,  1480,  4313,  4538,  4008,  8601,  4633,\n",
              "        22903,  4113,  1676,   868,  4913,  7965,  1789,  4203,  4110,\n",
              "        15031,   786,   250,  4057, 10878,  4007,  2593,  4094,  4128,\n",
              "        10289,  4113, 10958,  4062,  9511,  1355,  4600,  4103,  4775,\n",
              "         5602, 10770,  4180, 26732,  3231, 23243,  4104,  4042,  2015,\n",
              "         4012,  4113,  9198,  8763,  8129,    17, 10384, 23008,  7971,\n",
              "         2170,  4408,  4011,  4147,  4042, 17015,  4091, 23008, 21056,\n",
              "         4165,   323,  4175,  4158, 11413,  2273,  4043,  7966,  1543,\n",
              "         4775,  4170,  4042,   341,  4573,  4771,    28,  4566,  4027,\n",
              "        10599, 18907,   208,  9504, 24835,    15, 11060,  2451,  4780,\n",
              "         4032, 18548,  4113,  3231, 23243,  4104,  4042,  1843,  4771,\n",
              "         7965, 28987,  4153,  2451, 15489,  4113, 13928, 17283,   575,\n",
              "         4261, 26783,  8114,  8852,  9107,  4082, 28498,  8131,    17,\n",
              "         8225,  4042,  1114,  4281,  4194, 17138,  4042,  9961,  8222,\n",
              "        14041, 10892,  4113,  2524,  4443,  8032, 12710, 21602, 18625,\n",
              "        24569,  4136,  2009, 11012, 17068,  4130,  8544,  8141,  1543,\n",
              "         4775,  4170,  4042,  3367,  4183,  4267,  4573,  4771, 17138,\n",
              "         4042, 17283,  9838,  9153,  1576,  1931,  8120,    17,  8117,\n",
              "          341,  4573,  4771,  2478,  4771,  4027,  8601,  4633, 29697,\n",
              "         8042, 25305,  4113,   254,  4133, 23008,  7971,  2840,  4110,\n",
              "         4062, 10410,    20,  4158,  8915,  2141, 11726, 13014,  8258,\n",
              "           17, 10384, 15489,  4042, 16520,  4128, 15831, 20048,  2451,\n",
              "         1843,  4771,    11,    20,  4158,  4099,    12,  2424, 23008,\n",
              "        21056, 18639,  2273,  4043, 27703,  2273,  4043,  4082,  3231,\n",
              "         4104,  4010,  7999,  9242, 22504, 10410,    15, 26271, 11877,\n",
              "         8840,  4008, 12626,    17,  8340,  2906,  4132,  4057, 16243,\n",
              "         1483,  4017,  9403, 14180,   947, 10770,  5076,  7971,  2273,\n",
              "         4043, 24984,     3,  1480,  4313,  4538,  4008,   336,  4065,\n",
              "         4042,  3231, 23243, 19143, 13985, 12449,  9194,  4105,  3385,\n",
              "         9411,    32,     3]], dtype=int32)>"
            ]
          },
          "metadata": {},
          "execution_count": 99
        }
      ]
    },
    {
      "cell_type": "code",
      "source": [
        "tokenizer.decode(inputs['input_ids'].numpy()[0, start:end+1])"
      ],
      "metadata": {
        "colab": {
          "base_uri": "https://localhost:8080/",
          "height": 35
        },
        "id": "qB2O9eenB2Jz",
        "outputId": "beede421-3373-47a6-f1f4-bfeaaeb072be"
      },
      "execution_count": null,
      "outputs": [
        {
          "output_type": "execute_result",
          "data": {
            "text/plain": [
              "'교향곡'"
            ],
            "application/vnd.google.colaboratory.intrinsic+json": {
              "type": "string"
            }
          },
          "metadata": {},
          "execution_count": 100
        }
      ]
    },
    {
      "cell_type": "code",
      "source": [
        "inputs['start_positions'] = [start]\n",
        "inputs['end_positions'] = [end]"
      ],
      "metadata": {
        "id": "d1xtXf5ZB4Xr"
      },
      "execution_count": null,
      "outputs": []
    },
    {
      "cell_type": "code",
      "source": [
        "def int_feature(value):\n",
        "    return tf.train.Feature(int64_list=tf.train.Int64List(value=value))\n",
        "\n",
        "def make_inputs(context, qas):\n",
        "    inputs = tokenizer(\n",
        "        context, \n",
        "        qas['question'], \n",
        "        truncation=True, \n",
        "        max_length=tokenizer.model_max_length)\n",
        "    q = qas['answers'][0]\n",
        "    start_char = q['answer_start']\n",
        "    end_char = start_char + len(q['text']) - 1\n",
        "    start = inputs.char_to_token(0, start_char)\n",
        "    end = inputs.char_to_token(0, end_char)\n",
        "    inputs['start_positions'] = [start]\n",
        "    inputs['end_positions'] = [end]\n",
        "    return inputs"
      ],
      "metadata": {
        "id": "WsP_8BfHB5vO"
      },
      "execution_count": null,
      "outputs": []
    },
    {
      "cell_type": "code",
      "source": [
        "%%time\n",
        "n = 0\n",
        "filename = 'korquad.tfrecord'\n",
        "with tf.io.TFRecordWriter(filename) as writer:\n",
        "    for item in korquad['data']:  \n",
        "        for para in item['paragraphs']: \n",
        "            context = para['context']\n",
        "            for qas in para['qas']:\n",
        "                inputs = make_inputs(context, qas)\n",
        "                if inputs['start_positions'][0] and inputs['end_positions'][0]:\n",
        "                    feature = {k: int_feature(v) for k, v in inputs.items()}\n",
        "                    example = tf.train.Example(features=tf.train.Features(feature=feature))\n",
        "                    s = example.SerializeToString()\n",
        "                    writer.write(s)\n",
        "                    n += 1"
      ],
      "metadata": {
        "colab": {
          "base_uri": "https://localhost:8080/"
        },
        "id": "9xOXM89SB74J",
        "outputId": "a8984248-2ac9-4deb-e28e-b6ac4621f581"
      },
      "execution_count": null,
      "outputs": [
        {
          "output_type": "stream",
          "name": "stdout",
          "text": [
            "CPU times: user 46.9 s, sys: 1.01 s, total: 47.9 s\n",
            "Wall time: 50.2 s\n"
          ]
        }
      ]
    },
    {
      "cell_type": "code",
      "source": [
        "int_seq = tf.io.FixedLenSequenceFeature(shape=(), dtype=tf.int64, allow_missing=True)\n",
        "int_value = tf.io.FixedLenFeature(shape=(), dtype=tf.int64)\n",
        "feature_description = {\n",
        "    'input_ids': int_seq,\n",
        "    'token_type_ids': int_seq,\n",
        "    'attention_mask': int_seq,\n",
        "    'start_positions': int_value,\n",
        "    'end_positions': int_value\n",
        "}"
      ],
      "metadata": {
        "id": "Tz13QVRQB9ir"
      },
      "execution_count": null,
      "outputs": []
    },
    {
      "cell_type": "code",
      "source": [
        "def preproc(example):\n",
        "    example = tf.io.parse_single_example(example, feature_description)\n",
        "    example = {k : tf.cast(v, tf.int32) for k, v in example.items()}\n",
        "    return example"
      ],
      "metadata": {
        "id": "7qEIK0eEB_9X"
      },
      "execution_count": null,
      "outputs": []
    },
    {
      "cell_type": "code",
      "source": [
        "dataset = tf.data.TFRecordDataset(['korquad.tfrecord']).map(preproc).padded_batch(8)\n",
        "batch = next(iter(dataset))\n",
        "result = model(batch)"
      ],
      "metadata": {
        "id": "e979YSFvCAT4"
      },
      "execution_count": null,
      "outputs": []
    },
    {
      "cell_type": "code",
      "source": [
        "#adam optimizer\n",
        "%%time\n",
        "opt = tf.keras.optimizers.Adam(learning_rate=5e-5)\n",
        "\n",
        "n = 10\n",
        "for batch in tqdm.notebook.tqdm(dataset, total=math.ceil(n / 32)):\n",
        "    with tf.GradientTape() as tape:\n",
        "        result = model(batch)\n",
        "        loss = tf.reduce_mean(result['loss'])\n",
        "    grads = tape.gradient(loss, model.trainable_variables)\n",
        "    opt.apply_gradients(zip(grads, model.trainable_variables)) # loss가 감소하는 방향으로 파라미터 업데이트"
      ],
      "metadata": {
        "colab": {
          "base_uri": "https://localhost:8080/",
          "height": 85,
          "referenced_widgets": [
            "da0c1be92644444a842382748af93a6f",
            "aa9cd38f261f4d0eab8165c5c9427669",
            "476e3a21d66d4b898c35bd83305c26a5",
            "fefe2b29e3e24a038dcdc949ce43e923",
            "2ae2702dda814f14b8a677e325c4832e",
            "0d9cddbaffdf41c192122bd0c5f4a9a7",
            "af9d4f621b9042aa9d84d1b1fae226df",
            "f2d0dbd6c13947708839a83df1de2af8",
            "a8ab5e29a75a4872aed734b507080c22",
            "ae9a88ad1ea747ffabfb952cde292d42",
            "68e1a7decff649679a99f7ec1c2cb74b"
          ]
        },
        "id": "vnf11TtyCuWX",
        "outputId": "d552b855-db49-450a-bbe7-b5e59c201878"
      },
      "execution_count": null,
      "outputs": [
        {
          "data": {
            "application/vnd.jupyter.widget-view+json": {
              "model_id": "da0c1be92644444a842382748af93a6f",
              "version_major": 2,
              "version_minor": 0
            },
            "text/plain": [
              "  0%|          | 0/1 [00:00<?, ?it/s]"
            ]
          },
          "metadata": {},
          "output_type": "display_data"
        },
        {
          "output_type": "stream",
          "name": "stdout",
          "text": [
            "CPU times: user 42min 12s, sys: 1min 32s, total: 43min 45s\n",
            "Wall time: 1h 7min 11s\n"
          ]
        }
      ]
    },
    {
      "cell_type": "code",
      "source": [
        "def qa(question, context):\n",
        "    inputs = tokenizer(context, question, add_special_tokens=True, return_tensors=\"tf\")\n",
        "    outputs = model(inputs)\n",
        "    start = tf.argmax(outputs.start_logits, axis=1).numpy()[0]\n",
        "    end = tf.argmax(outputs.end_logits, axis=1).numpy()[0]\n",
        "    return tokenizer.decode(inputs['input_ids'][0, start:end+1])"
      ],
      "metadata": {
        "id": "KigjeLeEG_6v"
      },
      "execution_count": null,
      "outputs": []
    },
    {
      "cell_type": "markdown",
      "source": [
        "#예시\n"
      ],
      "metadata": {
        "id": "QrF20xgXRbjD"
      }
    },
    {
      "cell_type": "code",
      "source": [
        "context=\"\"\"피고인과 피해자 B(남, 40세)는 모두 서울 ○○구 ○○로 ○○에 있는 ○○스포츠센터의 수영 강습생이다.\n",
        "피고인은 2020. 10. 29. 09:30경 위 ○○스포츠센터 수영장에서 수영 강습을 받던 중, 피고인의 옆에서 수영 강습을 받기 위해\n",
        " 물에 엎드린 자세로 떠 있던 피해자의 엉덩이를 갑자기 손으로 움켜쥐었다. 이로써 피고인은 피해자를 강제로 추행하였다.\"\"\""
      ],
      "metadata": {
        "id": "fyQZWzDNG9Gu"
      },
      "execution_count": null,
      "outputs": []
    },
    {
      "cell_type": "code",
      "source": [
        "context=\"\"\"피고인은 2020년 \n",
        "12년 15일경 집에서 피해자D(여,22세)에게 \n",
        "다가가 피해자의 엉덩이를 손으로 만져 \n",
        "피해자를 강제추행하였다.\"\"\""
      ],
      "metadata": {
        "id": "Xf17shzzoQtD"
      },
      "execution_count": null,
      "outputs": []
    },
    {
      "cell_type": "code",
      "source": [
        "qa('범행이 언제 발생했는지?', context)"
      ],
      "metadata": {
        "colab": {
          "base_uri": "https://localhost:8080/",
          "height": 35
        },
        "id": "f-t1OMcdHBI9",
        "outputId": "c3de035a-2dbb-4653-883e-ac4a256b5037"
      },
      "execution_count": null,
      "outputs": [
        {
          "output_type": "execute_result",
          "data": {
            "text/plain": [
              "'2020년 12년 15일'"
            ],
            "application/vnd.google.colaboratory.intrinsic+json": {
              "type": "string"
            }
          },
          "metadata": {},
          "execution_count": 54
        }
      ]
    },
    {
      "cell_type": "code",
      "source": [
        "qa('어떤 범죄를 저질렀는지?', context)"
      ],
      "metadata": {
        "colab": {
          "base_uri": "https://localhost:8080/",
          "height": 35
        },
        "id": "ADRki_9CHCG1",
        "outputId": "03efd3da-e013-4cc6-f68a-3dbadcbb1fed"
      },
      "execution_count": null,
      "outputs": [
        {
          "output_type": "execute_result",
          "data": {
            "text/plain": [
              "'피해자를 강제추행'"
            ],
            "application/vnd.google.colaboratory.intrinsic+json": {
              "type": "string"
            }
          },
          "metadata": {},
          "execution_count": 55
        }
      ]
    },
    {
      "cell_type": "code",
      "source": [
        "qa('범행이 어디서 발생했는지?',context)"
      ],
      "metadata": {
        "colab": {
          "base_uri": "https://localhost:8080/",
          "height": 35
        },
        "id": "eTx2PFEnOeaM",
        "outputId": "75cb2f39-d8d9-43f4-9c3c-0de21e7b3c3b"
      },
      "execution_count": null,
      "outputs": [
        {
          "output_type": "execute_result",
          "data": {
            "text/plain": [
              "'집에서'"
            ],
            "application/vnd.google.colaboratory.intrinsic+json": {
              "type": "string"
            }
          },
          "metadata": {},
          "execution_count": 56
        }
      ]
    },
    {
      "cell_type": "code",
      "source": [
        "context=\"피고인은 2021. 3. 31. 17:35경 광주 동구 B, 1층에 있는 C은행 후문 옆 흡연장에서 담배를 피우고 있는 피해자 D(여, 22세)에게 다가가, 갑자기 피해자의 엉덩이를 오른손으로 치고 가 피해자를 강제추행하였다.\""
      ],
      "metadata": {
        "id": "JMfyY1T3Ovay"
      },
      "execution_count": null,
      "outputs": []
    },
    {
      "cell_type": "code",
      "source": [
        "qa('범행이 언제 발생했는지?', context)"
      ],
      "metadata": {
        "colab": {
          "base_uri": "https://localhost:8080/",
          "height": 35
        },
        "id": "fM8raVkDPCjq",
        "outputId": "326dc75d-4185-499b-fb9a-202bdcebf0dc"
      },
      "execution_count": null,
      "outputs": [
        {
          "output_type": "execute_result",
          "data": {
            "text/plain": [
              "'2021. 3. 31. 17 : 35경 광주 동구 B, 1층에 있는 C은행 후문 옆 흡연장에서 담배를 피우고 있는 피해자 D ( 여, 22세 ) 에게 다가가, 갑자기 피해자의 엉덩이를 오른손으로 치고 가 피해자를 강제추행'"
            ],
            "application/vnd.google.colaboratory.intrinsic+json": {
              "type": "string"
            }
          },
          "metadata": {},
          "execution_count": 58
        }
      ]
    },
    {
      "cell_type": "code",
      "source": [
        "qa('어떤 범죄를 저질렀는지?', context)"
      ],
      "metadata": {
        "colab": {
          "base_uri": "https://localhost:8080/",
          "height": 35
        },
        "id": "LExchuJhPEF3",
        "outputId": "28f8c81c-e41f-4472-e845-e001dfecbc72"
      },
      "execution_count": null,
      "outputs": [
        {
          "output_type": "execute_result",
          "data": {
            "text/plain": [
              "'강제추행'"
            ],
            "application/vnd.google.colaboratory.intrinsic+json": {
              "type": "string"
            }
          },
          "metadata": {},
          "execution_count": 59
        }
      ]
    },
    {
      "cell_type": "code",
      "source": [
        "qa('어디에서 사건이 발생했는지?',context)"
      ],
      "metadata": {
        "colab": {
          "base_uri": "https://localhost:8080/",
          "height": 35
        },
        "id": "KMJPfoODPFAS",
        "outputId": "6c826a17-99ca-48e4-f3c1-37b07c4ca5db"
      },
      "execution_count": null,
      "outputs": [
        {
          "output_type": "execute_result",
          "data": {
            "text/plain": [
              "'광주'"
            ],
            "application/vnd.google.colaboratory.intrinsic+json": {
              "type": "string"
            }
          },
          "metadata": {},
          "execution_count": 60
        }
      ]
    },
    {
      "cell_type": "code",
      "source": [
        "context=\"피고인은 2020. 1. 18. 22:00경 포항시 북구 B 소재 ‘C 노래연습장' 내에서 선배인 D과 D의 여자친구인 피해자 E(가명, 여, 67세)와 함께 노래를 부르며 놀던 중 D이 뒤돌아서서 노래를 선곡하는 틈을 이용하여 갑자기 양팔로 피해자를 끌어안은 후 한 손으로 피해자의 왼쪽 가슴을 만졌다. 이로써 피고인은 피해자를 강제로 추행하였다.\""
      ],
      "metadata": {
        "id": "Jtt1qjauPR4r"
      },
      "execution_count": null,
      "outputs": []
    },
    {
      "cell_type": "code",
      "source": [
        "qa('범행이 언제 발생했는지?', context)"
      ],
      "metadata": {
        "colab": {
          "base_uri": "https://localhost:8080/",
          "height": 35
        },
        "id": "ya_Bcze-PZPx",
        "outputId": "4f35d9e3-ff4f-4cde-b0b5-2e53fee309c8"
      },
      "execution_count": null,
      "outputs": [
        {
          "output_type": "execute_result",
          "data": {
            "text/plain": [
              "'2020'"
            ],
            "application/vnd.google.colaboratory.intrinsic+json": {
              "type": "string"
            }
          },
          "metadata": {},
          "execution_count": 62
        }
      ]
    },
    {
      "cell_type": "code",
      "source": [
        "qa('어떤 범죄를 저질렀는지?', context)"
      ],
      "metadata": {
        "colab": {
          "base_uri": "https://localhost:8080/",
          "height": 35
        },
        "id": "WJnU0QYlPbOW",
        "outputId": "f4f6d1fd-2b77-40b7-cea1-82e6c116c3ec"
      },
      "execution_count": null,
      "outputs": [
        {
          "output_type": "execute_result",
          "data": {
            "text/plain": [
              "'양팔로 피해자를'"
            ],
            "application/vnd.google.colaboratory.intrinsic+json": {
              "type": "string"
            }
          },
          "metadata": {},
          "execution_count": 63
        }
      ]
    },
    {
      "cell_type": "code",
      "source": [
        "qa('어디에서 사건이 발생했는지?',context)"
      ],
      "metadata": {
        "colab": {
          "base_uri": "https://localhost:8080/",
          "height": 35
        },
        "id": "EZ5WLhsjPgmB",
        "outputId": "2cffc90e-bbbf-4ed1-f0f7-76b814858ccb"
      },
      "execution_count": null,
      "outputs": [
        {
          "output_type": "execute_result",
          "data": {
            "text/plain": [
              "'양팔'"
            ],
            "application/vnd.google.colaboratory.intrinsic+json": {
              "type": "string"
            }
          },
          "metadata": {},
          "execution_count": 64
        }
      ]
    },
    {
      "cell_type": "code",
      "source": [
        "qa('어떤 행위를 하였는지?',context)"
      ],
      "metadata": {
        "colab": {
          "base_uri": "https://localhost:8080/",
          "height": 35
        },
        "id": "exe9ttItPlcX",
        "outputId": "a1a9d7a6-e8ff-4323-8dad-948e0d78b29f"
      },
      "execution_count": null,
      "outputs": [
        {
          "output_type": "execute_result",
          "data": {
            "text/plain": [
              "'피해자를 강제로 추행'"
            ],
            "application/vnd.google.colaboratory.intrinsic+json": {
              "type": "string"
            }
          },
          "metadata": {},
          "execution_count": 65
        }
      ]
    },
    {
      "cell_type": "code",
      "source": [
        "context=\"그는 그녀를 2020년 12월 강제추행하였다.\""
      ],
      "metadata": {
        "id": "E5hkP04CPkjf"
      },
      "execution_count": null,
      "outputs": []
    },
    {
      "cell_type": "code",
      "source": [
        "qa('범행이 언제 발생했는지?', context)"
      ],
      "metadata": {
        "colab": {
          "base_uri": "https://localhost:8080/",
          "height": 35
        },
        "id": "plBuj28NQTD8",
        "outputId": "27295b4d-d8cf-4b23-f3c6-a2c83e9876bb"
      },
      "execution_count": null,
      "outputs": [
        {
          "output_type": "execute_result",
          "data": {
            "text/plain": [
              "'2020년 12월'"
            ],
            "application/vnd.google.colaboratory.intrinsic+json": {
              "type": "string"
            }
          },
          "metadata": {},
          "execution_count": 67
        }
      ]
    },
    {
      "cell_type": "code",
      "source": [
        "qa('어떤 행위를 하였는지?',context)"
      ],
      "metadata": {
        "colab": {
          "base_uri": "https://localhost:8080/",
          "height": 35
        },
        "id": "rsR2N-OxQQfN",
        "outputId": "d2e6713c-2bb5-476f-f4f5-795b1c3e8e28"
      },
      "execution_count": null,
      "outputs": [
        {
          "output_type": "execute_result",
          "data": {
            "text/plain": [
              "'강제추행'"
            ],
            "application/vnd.google.colaboratory.intrinsic+json": {
              "type": "string"
            }
          },
          "metadata": {},
          "execution_count": 68
        }
      ]
    },
    {
      "cell_type": "code",
      "source": [
        "qa('어디에서 사건이 발생했는지?',context)"
      ],
      "metadata": {
        "colab": {
          "base_uri": "https://localhost:8080/",
          "height": 36
        },
        "id": "vfepuG7bQNVv",
        "outputId": "8396e507-f8b8-489d-d3d6-83e5d98937ec"
      },
      "execution_count": null,
      "outputs": [
        {
          "output_type": "execute_result",
          "data": {
            "text/plain": [
              "'강제추행'"
            ],
            "application/vnd.google.colaboratory.intrinsic+json": {
              "type": "string"
            }
          },
          "metadata": {},
          "execution_count": 60
        }
      ]
    },
    {
      "cell_type": "code",
      "source": [
        "context=\"그는 그녀를 2020년 집에서 강제로 추행하였다.\""
      ],
      "metadata": {
        "id": "cPiB5AnGQVQA"
      },
      "execution_count": null,
      "outputs": []
    },
    {
      "cell_type": "code",
      "source": [
        "qa('어디에서 사건이 발생했는지?',context)"
      ],
      "metadata": {
        "colab": {
          "base_uri": "https://localhost:8080/",
          "height": 36
        },
        "id": "dGbu57WbQZkt",
        "outputId": "51623bed-2283-4bf9-957d-1fca7d2b43ad"
      },
      "execution_count": null,
      "outputs": [
        {
          "output_type": "execute_result",
          "data": {
            "text/plain": [
              "'2020년 집에서'"
            ],
            "application/vnd.google.colaboratory.intrinsic+json": {
              "type": "string"
            }
          },
          "metadata": {},
          "execution_count": 66
        }
      ]
    },
    {
      "cell_type": "code",
      "source": [
        "qa('어떤 행위를 하였는지?',context)"
      ],
      "metadata": {
        "colab": {
          "base_uri": "https://localhost:8080/",
          "height": 36
        },
        "id": "00q8CxTPQbWE",
        "outputId": "132d4677-95d4-4fe1-99bc-645d86645604"
      },
      "execution_count": null,
      "outputs": [
        {
          "output_type": "execute_result",
          "data": {
            "text/plain": [
              "'강제로'"
            ],
            "application/vnd.google.colaboratory.intrinsic+json": {
              "type": "string"
            }
          },
          "metadata": {},
          "execution_count": 67
        }
      ]
    },
    {
      "cell_type": "code",
      "source": [
        "qa('범행이 언제 발생했는지?', context)"
      ],
      "metadata": {
        "colab": {
          "base_uri": "https://localhost:8080/",
          "height": 36
        },
        "id": "7b0qFaz_Qd5N",
        "outputId": "cca14932-2a46-4c87-e19b-40c6d5eed744"
      },
      "execution_count": null,
      "outputs": [
        {
          "output_type": "execute_result",
          "data": {
            "text/plain": [
              "'2020년 집에서'"
            ],
            "application/vnd.google.colaboratory.intrinsic+json": {
              "type": "string"
            }
          },
          "metadata": {},
          "execution_count": 68
        }
      ]
    },
    {
      "cell_type": "code",
      "source": [
        "context=\"피고인은 피해자를 2020년12월15일경 집에서 강제추행하였다.\""
      ],
      "metadata": {
        "id": "kXJ5LvSmQgmw"
      },
      "execution_count": null,
      "outputs": []
    },
    {
      "cell_type": "code",
      "source": [
        "qa('어디에서 사건이 발생했는지?',context)"
      ],
      "metadata": {
        "colab": {
          "base_uri": "https://localhost:8080/",
          "height": 36
        },
        "id": "DeVtENsnQsxc",
        "outputId": "2bd04b31-7b13-4a99-cb06-639d760fae25"
      },
      "execution_count": null,
      "outputs": [
        {
          "output_type": "execute_result",
          "data": {
            "text/plain": [
              "'2020년12월15일경 집에서'"
            ],
            "application/vnd.google.colaboratory.intrinsic+json": {
              "type": "string"
            }
          },
          "metadata": {},
          "execution_count": 72
        }
      ]
    },
    {
      "cell_type": "code",
      "source": [
        "qa('어떤 행위를 하였는지?',context)"
      ],
      "metadata": {
        "colab": {
          "base_uri": "https://localhost:8080/",
          "height": 36
        },
        "id": "3OWQViG0QugW",
        "outputId": "61824353-0ec4-4944-d183-bbd927e91223"
      },
      "execution_count": null,
      "outputs": [
        {
          "output_type": "execute_result",
          "data": {
            "text/plain": [
              "'강제추행'"
            ],
            "application/vnd.google.colaboratory.intrinsic+json": {
              "type": "string"
            }
          },
          "metadata": {},
          "execution_count": 74
        }
      ]
    },
    {
      "cell_type": "code",
      "source": [
        "qa('범행이 언제 발생했는지?', context)"
      ],
      "metadata": {
        "colab": {
          "base_uri": "https://localhost:8080/",
          "height": 36
        },
        "id": "zTXGJIC1QwHB",
        "outputId": "e1b45f5f-8b10-4663-f81a-4b9d4f184a20"
      },
      "execution_count": null,
      "outputs": [
        {
          "output_type": "execute_result",
          "data": {
            "text/plain": [
              "'2020년12월15일경'"
            ],
            "application/vnd.google.colaboratory.intrinsic+json": {
              "type": "string"
            }
          },
          "metadata": {},
          "execution_count": 73
        }
      ]
    },
    {
      "cell_type": "code",
      "source": [
        "context=\"피고인과 피해자 B(여, 35세)은 같은 직장에 근무하는 동료 사이이다. 피고인은 2019. 10. 26. 23:00경 대구 수성구 C 앞길에서 동료들과 회식을 마치고 귀가하던 중 '나랑 같이 자자.'라고 말하며 갑자기 피해자의 왼쪽 가슴을 움켜잡아 피해자를 강제로 추행하였다.\""
      ],
      "metadata": {
        "id": "HzcH9MW2QzAf"
      },
      "execution_count": null,
      "outputs": []
    },
    {
      "cell_type": "code",
      "source": [
        "qa('어디에서 사건이 발생했는지?',context)"
      ],
      "metadata": {
        "colab": {
          "base_uri": "https://localhost:8080/",
          "height": 35
        },
        "id": "e5JF9bmPRBWs",
        "outputId": "3ccaa4b4-3ca4-47d3-e8ee-4f13e9a4e7a1"
      },
      "execution_count": null,
      "outputs": [
        {
          "output_type": "execute_result",
          "data": {
            "text/plain": [
              "'대구 수성구 C 앞길에서 동료들과 회식'"
            ],
            "application/vnd.google.colaboratory.intrinsic+json": {
              "type": "string"
            }
          },
          "metadata": {},
          "execution_count": 73
        }
      ]
    },
    {
      "cell_type": "code",
      "source": [
        "qa('어떤 행위를 하였는지?',context)"
      ],
      "metadata": {
        "colab": {
          "base_uri": "https://localhost:8080/",
          "height": 35
        },
        "id": "eiGvzecKRCJJ",
        "outputId": "e836cf51-8b4c-49d6-9b96-bcb990a218d4"
      },
      "execution_count": null,
      "outputs": [
        {
          "output_type": "execute_result",
          "data": {
            "text/plain": [
              "'회식'"
            ],
            "application/vnd.google.colaboratory.intrinsic+json": {
              "type": "string"
            }
          },
          "metadata": {},
          "execution_count": 71
        }
      ]
    },
    {
      "cell_type": "code",
      "source": [
        "qa('범행이 언제 발생했는지?', context)"
      ],
      "metadata": {
        "colab": {
          "base_uri": "https://localhost:8080/",
          "height": 35
        },
        "id": "rzqx8R-eREa-",
        "outputId": "82bb80a7-85dc-4d8d-8a51-01ef4429a610"
      },
      "execution_count": null,
      "outputs": [
        {
          "output_type": "execute_result",
          "data": {
            "text/plain": [
              "'2019. 10. 26. 23'"
            ],
            "application/vnd.google.colaboratory.intrinsic+json": {
              "type": "string"
            }
          },
          "metadata": {},
          "execution_count": 72
        }
      ]
    },
    {
      "cell_type": "code",
      "source": [
        "qa('피고인과 피해자는 어떤 관계인가?',context)"
      ],
      "metadata": {
        "colab": {
          "base_uri": "https://localhost:8080/",
          "height": 35
        },
        "id": "NCNVAM8NRG0Q",
        "outputId": "9145feea-3825-4f74-9666-ea635722e42a"
      },
      "execution_count": null,
      "outputs": [
        {
          "output_type": "execute_result",
          "data": {
            "text/plain": [
              "\"B ( 여, 35세 ) 은 같은 직장에 근무하는 동료 사이이다. 피고인은 2019. 10. 26. 23 : 00경 대구 수성구 C 앞길에서 동료들과 회식을 마치고 귀가하던 중'나랑 같이 자자.'라고 말하며 갑자기 피해자의 왼쪽 가슴\""
            ],
            "application/vnd.google.colaboratory.intrinsic+json": {
              "type": "string"
            }
          },
          "metadata": {},
          "execution_count": 74
        }
      ]
    },
    {
      "cell_type": "code",
      "source": [
        "context = input('검색할 context를 입력해주세요:  ')\n",
        "question=input('검색할 질문을 입력해주세요:  ')\n",
        "print(\"정답\")\n",
        "qa(question, context)"
      ],
      "metadata": {
        "colab": {
          "base_uri": "https://localhost:8080/",
          "height": 90
        },
        "id": "319STjOgwxNm",
        "outputId": "66a86080-8ac8-4e60-a8e5-72f47aeeaf13"
      },
      "execution_count": null,
      "outputs": [
        {
          "output_type": "stream",
          "name": "stdout",
          "text": [
            "검색할 context를 입력해주세요:  피고인은 2020년 12월 15일경 집에서 피해자D(여,22세)에게 다가가 피해자의 엉덩이를 손으로 만져 피해자를 강제추행하였다\n",
            "검색할 질문을 입력해주세요:  범행이 언제 발생했는지?\n",
            "정답\n"
          ]
        },
        {
          "output_type": "execute_result",
          "data": {
            "text/plain": [
              "'2020년 12월 15일'"
            ],
            "application/vnd.google.colaboratory.intrinsic+json": {
              "type": "string"
            }
          },
          "metadata": {},
          "execution_count": 110
        }
      ]
    },
    {
      "cell_type": "markdown",
      "source": [
        "#검색을 위한 코드입니다. 실행한후, context와 Question을 차례대로 입력한 후 엔터를 눌러주세요."
      ],
      "metadata": {
        "id": "YKRPEshHRghZ"
      }
    },
    {
      "cell_type": "code",
      "source": [
        "context = input('검색할 context를 입력해주세요:  ')\n",
        "question=input('검색할 질문을 입력해주세요:  ')\n",
        "print(\"정답\")\n",
        "qa(question, context)"
      ],
      "metadata": {
        "colab": {
          "base_uri": "https://localhost:8080/",
          "height": 90
        },
        "id": "HQJx6iNQK2mT",
        "outputId": "36a41af2-724a-433e-d51e-2cd62ac5e0f1"
      },
      "execution_count": null,
      "outputs": [
        {
          "output_type": "stream",
          "name": "stdout",
          "text": [
            "검색할 context를 입력해주세요:  피고인은 2020년 12월 15일경 집에서 피해자D(여,22세)에게 다가가 피해자의 엉덩이를 손으로 만져 피해자를 강제추행하였다\n",
            "검색할 질문을 입력해주세요:  범행이 언제 발생했나요?\n",
            "정답\n"
          ]
        },
        {
          "output_type": "execute_result",
          "data": {
            "text/plain": [
              "'2020년 12월 15일'"
            ],
            "application/vnd.google.colaboratory.intrinsic+json": {
              "type": "string"
            }
          },
          "metadata": {},
          "execution_count": 115
        }
      ]
    }
  ]
}